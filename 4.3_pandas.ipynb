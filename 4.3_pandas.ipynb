{
 "cells": [
  {
   "cell_type": "markdown",
   "id": "4c9b6080",
   "metadata": {},
   "source": [
    "# pandas"
   ]
  },
  {
   "cell_type": "code",
   "execution_count": 3,
   "id": "42712be4",
   "metadata": {},
   "outputs": [],
   "source": [
    "import pandas as pd\n",
    "import numpy as np"
   ]
  },
  {
   "cell_type": "code",
   "execution_count": 5,
   "id": "9f1eb3ec",
   "metadata": {},
   "outputs": [
    {
     "data": {
      "text/html": [
       "<div>\n",
       "<style scoped>\n",
       "    .dataframe tbody tr th:only-of-type {\n",
       "        vertical-align: middle;\n",
       "    }\n",
       "\n",
       "    .dataframe tbody tr th {\n",
       "        vertical-align: top;\n",
       "    }\n",
       "\n",
       "    .dataframe thead th {\n",
       "        text-align: right;\n",
       "    }\n",
       "</style>\n",
       "<table border=\"1\" class=\"dataframe\">\n",
       "  <thead>\n",
       "    <tr style=\"text-align: right;\">\n",
       "      <th></th>\n",
       "      <th>C1</th>\n",
       "      <th>C2</th>\n",
       "      <th>C3</th>\n",
       "      <th>C4</th>\n",
       "      <th>C5</th>\n",
       "      <th>C6</th>\n",
       "    </tr>\n",
       "  </thead>\n",
       "  <tbody>\n",
       "    <tr>\n",
       "      <th>R1</th>\n",
       "      <td>0</td>\n",
       "      <td>1</td>\n",
       "      <td>2</td>\n",
       "      <td>3</td>\n",
       "      <td>4</td>\n",
       "      <td>5</td>\n",
       "    </tr>\n",
       "    <tr>\n",
       "      <th>R2</th>\n",
       "      <td>6</td>\n",
       "      <td>7</td>\n",
       "      <td>8</td>\n",
       "      <td>9</td>\n",
       "      <td>10</td>\n",
       "      <td>11</td>\n",
       "    </tr>\n",
       "    <tr>\n",
       "      <th>R3</th>\n",
       "      <td>12</td>\n",
       "      <td>13</td>\n",
       "      <td>14</td>\n",
       "      <td>15</td>\n",
       "      <td>16</td>\n",
       "      <td>17</td>\n",
       "    </tr>\n",
       "    <tr>\n",
       "      <th>R4</th>\n",
       "      <td>18</td>\n",
       "      <td>19</td>\n",
       "      <td>20</td>\n",
       "      <td>21</td>\n",
       "      <td>22</td>\n",
       "      <td>23</td>\n",
       "    </tr>\n",
       "    <tr>\n",
       "      <th>R5</th>\n",
       "      <td>24</td>\n",
       "      <td>25</td>\n",
       "      <td>26</td>\n",
       "      <td>27</td>\n",
       "      <td>28</td>\n",
       "      <td>29</td>\n",
       "    </tr>\n",
       "  </tbody>\n",
       "</table>\n",
       "</div>"
      ],
      "text/plain": [
       "    C1  C2  C3  C4  C5  C6\n",
       "R1   0   1   2   3   4   5\n",
       "R2   6   7   8   9  10  11\n",
       "R3  12  13  14  15  16  17\n",
       "R4  18  19  20  21  22  23\n",
       "R5  24  25  26  27  28  29"
      ]
     },
     "execution_count": 5,
     "metadata": {},
     "output_type": "execute_result"
    }
   ],
   "source": [
    "df = pd.DataFrame(np.arange(0,30).reshape(5,6),index=['R1','R2','R3','R4','R5'],columns=['C1','C2','C3','C4','C5','C6'])\n",
    "df"
   ]
  },
  {
   "cell_type": "code",
   "execution_count": 7,
   "id": "458ae988",
   "metadata": {},
   "outputs": [
    {
     "data": {
      "text/html": [
       "<div>\n",
       "<style scoped>\n",
       "    .dataframe tbody tr th:only-of-type {\n",
       "        vertical-align: middle;\n",
       "    }\n",
       "\n",
       "    .dataframe tbody tr th {\n",
       "        vertical-align: top;\n",
       "    }\n",
       "\n",
       "    .dataframe thead th {\n",
       "        text-align: right;\n",
       "    }\n",
       "</style>\n",
       "<table border=\"1\" class=\"dataframe\">\n",
       "  <thead>\n",
       "    <tr style=\"text-align: right;\">\n",
       "      <th></th>\n",
       "      <th>C1</th>\n",
       "      <th>C2</th>\n",
       "      <th>C3</th>\n",
       "      <th>C4</th>\n",
       "      <th>C5</th>\n",
       "      <th>C6</th>\n",
       "    </tr>\n",
       "  </thead>\n",
       "  <tbody>\n",
       "    <tr>\n",
       "      <th>R1</th>\n",
       "      <td>0</td>\n",
       "      <td>1</td>\n",
       "      <td>2</td>\n",
       "      <td>3</td>\n",
       "      <td>4</td>\n",
       "      <td>5</td>\n",
       "    </tr>\n",
       "    <tr>\n",
       "      <th>R2</th>\n",
       "      <td>6</td>\n",
       "      <td>7</td>\n",
       "      <td>8</td>\n",
       "      <td>9</td>\n",
       "      <td>10</td>\n",
       "      <td>11</td>\n",
       "    </tr>\n",
       "    <tr>\n",
       "      <th>R3</th>\n",
       "      <td>12</td>\n",
       "      <td>13</td>\n",
       "      <td>14</td>\n",
       "      <td>15</td>\n",
       "      <td>16</td>\n",
       "      <td>17</td>\n",
       "    </tr>\n",
       "  </tbody>\n",
       "</table>\n",
       "</div>"
      ],
      "text/plain": [
       "    C1  C2  C3  C4  C5  C6\n",
       "R1   0   1   2   3   4   5\n",
       "R2   6   7   8   9  10  11\n",
       "R3  12  13  14  15  16  17"
      ]
     },
     "execution_count": 7,
     "metadata": {},
     "output_type": "execute_result"
    }
   ],
   "source": [
    "df.head(3) #tail"
   ]
  },
  {
   "cell_type": "code",
   "execution_count": 13,
   "id": "a286916d",
   "metadata": {},
   "outputs": [
    {
     "data": {
      "text/plain": [
       "C1    0\n",
       "C2    1\n",
       "C3    2\n",
       "C4    3\n",
       "C5    4\n",
       "C6    5\n",
       "Name: R1, dtype: int32"
      ]
     },
     "execution_count": 13,
     "metadata": {},
     "output_type": "execute_result"
    }
   ],
   "source": [
    "df.loc['R1']\n",
    "df.iloc[0]"
   ]
  },
  {
   "cell_type": "code",
   "execution_count": 15,
   "id": "15320770",
   "metadata": {},
   "outputs": [
    {
     "data": {
      "text/html": [
       "<div>\n",
       "<style scoped>\n",
       "    .dataframe tbody tr th:only-of-type {\n",
       "        vertical-align: middle;\n",
       "    }\n",
       "\n",
       "    .dataframe tbody tr th {\n",
       "        vertical-align: top;\n",
       "    }\n",
       "\n",
       "    .dataframe thead th {\n",
       "        text-align: right;\n",
       "    }\n",
       "</style>\n",
       "<table border=\"1\" class=\"dataframe\">\n",
       "  <thead>\n",
       "    <tr style=\"text-align: right;\">\n",
       "      <th></th>\n",
       "      <th>C1</th>\n",
       "      <th>C2</th>\n",
       "      <th>C3</th>\n",
       "    </tr>\n",
       "  </thead>\n",
       "  <tbody>\n",
       "    <tr>\n",
       "      <th>R1</th>\n",
       "      <td>0</td>\n",
       "      <td>1</td>\n",
       "      <td>2</td>\n",
       "    </tr>\n",
       "    <tr>\n",
       "      <th>R2</th>\n",
       "      <td>6</td>\n",
       "      <td>7</td>\n",
       "      <td>8</td>\n",
       "    </tr>\n",
       "  </tbody>\n",
       "</table>\n",
       "</div>"
      ],
      "text/plain": [
       "    C1  C2  C3\n",
       "R1   0   1   2\n",
       "R2   6   7   8"
      ]
     },
     "execution_count": 15,
     "metadata": {},
     "output_type": "execute_result"
    }
   ],
   "source": [
    "#slicing\n",
    "df.iloc[:2,:3]"
   ]
  },
  {
   "cell_type": "code",
   "execution_count": 16,
   "id": "ae6d0dd5",
   "metadata": {},
   "outputs": [
    {
     "data": {
      "text/plain": [
       "array([[ 0,  1,  2,  3,  4,  5],\n",
       "       [ 6,  7,  8,  9, 10, 11],\n",
       "       [12, 13, 14, 15, 16, 17],\n",
       "       [18, 19, 20, 21, 22, 23],\n",
       "       [24, 25, 26, 27, 28, 29]])"
      ]
     },
     "execution_count": 16,
     "metadata": {},
     "output_type": "execute_result"
    }
   ],
   "source": [
    "#converting into array\n",
    "df.values"
   ]
  },
  {
   "cell_type": "code",
   "execution_count": 20,
   "id": "231afbb2",
   "metadata": {},
   "outputs": [
    {
     "data": {
      "text/html": [
       "<div>\n",
       "<style scoped>\n",
       "    .dataframe tbody tr th:only-of-type {\n",
       "        vertical-align: middle;\n",
       "    }\n",
       "\n",
       "    .dataframe tbody tr th {\n",
       "        vertical-align: top;\n",
       "    }\n",
       "\n",
       "    .dataframe thead th {\n",
       "        text-align: right;\n",
       "    }\n",
       "</style>\n",
       "<table border=\"1\" class=\"dataframe\">\n",
       "  <thead>\n",
       "    <tr style=\"text-align: right;\">\n",
       "      <th></th>\n",
       "      <th>Series_reference</th>\n",
       "      <th>Period</th>\n",
       "      <th>Data_value</th>\n",
       "      <th>Suppressed</th>\n",
       "      <th>STATUS</th>\n",
       "      <th>UNITS</th>\n",
       "      <th>Magnitude</th>\n",
       "      <th>Subject</th>\n",
       "      <th>Group</th>\n",
       "      <th>Series_title_1</th>\n",
       "      <th>Series_title_2</th>\n",
       "      <th>Series_title_3</th>\n",
       "      <th>Series_title_4</th>\n",
       "      <th>Series_title_5</th>\n",
       "    </tr>\n",
       "  </thead>\n",
       "  <tbody>\n",
       "    <tr>\n",
       "      <th>0</th>\n",
       "      <td>ECTA.S19A1</td>\n",
       "      <td>2001.03</td>\n",
       "      <td>2462.5</td>\n",
       "      <td>NaN</td>\n",
       "      <td>F</td>\n",
       "      <td>Dollars</td>\n",
       "      <td>6</td>\n",
       "      <td>Electronic Card Transactions (ANZSIC06) - ECT</td>\n",
       "      <td>Total values - Electronic card transactions A/...</td>\n",
       "      <td>Actual</td>\n",
       "      <td>RTS total industries</td>\n",
       "      <td>NaN</td>\n",
       "      <td>NaN</td>\n",
       "      <td>NaN</td>\n",
       "    </tr>\n",
       "    <tr>\n",
       "      <th>1</th>\n",
       "      <td>ECTA.S19A1</td>\n",
       "      <td>2002.03</td>\n",
       "      <td>17177.2</td>\n",
       "      <td>NaN</td>\n",
       "      <td>F</td>\n",
       "      <td>Dollars</td>\n",
       "      <td>6</td>\n",
       "      <td>Electronic Card Transactions (ANZSIC06) - ECT</td>\n",
       "      <td>Total values - Electronic card transactions A/...</td>\n",
       "      <td>Actual</td>\n",
       "      <td>RTS total industries</td>\n",
       "      <td>NaN</td>\n",
       "      <td>NaN</td>\n",
       "      <td>NaN</td>\n",
       "    </tr>\n",
       "    <tr>\n",
       "      <th>2</th>\n",
       "      <td>ECTA.S19A1</td>\n",
       "      <td>2003.03</td>\n",
       "      <td>22530.5</td>\n",
       "      <td>NaN</td>\n",
       "      <td>F</td>\n",
       "      <td>Dollars</td>\n",
       "      <td>6</td>\n",
       "      <td>Electronic Card Transactions (ANZSIC06) - ECT</td>\n",
       "      <td>Total values - Electronic card transactions A/...</td>\n",
       "      <td>Actual</td>\n",
       "      <td>RTS total industries</td>\n",
       "      <td>NaN</td>\n",
       "      <td>NaN</td>\n",
       "      <td>NaN</td>\n",
       "    </tr>\n",
       "    <tr>\n",
       "      <th>3</th>\n",
       "      <td>ECTA.S19A1</td>\n",
       "      <td>2004.03</td>\n",
       "      <td>28005.1</td>\n",
       "      <td>NaN</td>\n",
       "      <td>F</td>\n",
       "      <td>Dollars</td>\n",
       "      <td>6</td>\n",
       "      <td>Electronic Card Transactions (ANZSIC06) - ECT</td>\n",
       "      <td>Total values - Electronic card transactions A/...</td>\n",
       "      <td>Actual</td>\n",
       "      <td>RTS total industries</td>\n",
       "      <td>NaN</td>\n",
       "      <td>NaN</td>\n",
       "      <td>NaN</td>\n",
       "    </tr>\n",
       "    <tr>\n",
       "      <th>4</th>\n",
       "      <td>ECTA.S19A1</td>\n",
       "      <td>2005.03</td>\n",
       "      <td>30629.6</td>\n",
       "      <td>NaN</td>\n",
       "      <td>F</td>\n",
       "      <td>Dollars</td>\n",
       "      <td>6</td>\n",
       "      <td>Electronic Card Transactions (ANZSIC06) - ECT</td>\n",
       "      <td>Total values - Electronic card transactions A/...</td>\n",
       "      <td>Actual</td>\n",
       "      <td>RTS total industries</td>\n",
       "      <td>NaN</td>\n",
       "      <td>NaN</td>\n",
       "      <td>NaN</td>\n",
       "    </tr>\n",
       "  </tbody>\n",
       "</table>\n",
       "</div>"
      ],
      "text/plain": [
       "  Series_reference   Period  Data_value Suppressed STATUS    UNITS  Magnitude  \\\n",
       "0       ECTA.S19A1  2001.03      2462.5        NaN      F  Dollars          6   \n",
       "1       ECTA.S19A1  2002.03     17177.2        NaN      F  Dollars          6   \n",
       "2       ECTA.S19A1  2003.03     22530.5        NaN      F  Dollars          6   \n",
       "3       ECTA.S19A1  2004.03     28005.1        NaN      F  Dollars          6   \n",
       "4       ECTA.S19A1  2005.03     30629.6        NaN      F  Dollars          6   \n",
       "\n",
       "                                         Subject  \\\n",
       "0  Electronic Card Transactions (ANZSIC06) - ECT   \n",
       "1  Electronic Card Transactions (ANZSIC06) - ECT   \n",
       "2  Electronic Card Transactions (ANZSIC06) - ECT   \n",
       "3  Electronic Card Transactions (ANZSIC06) - ECT   \n",
       "4  Electronic Card Transactions (ANZSIC06) - ECT   \n",
       "\n",
       "                                               Group Series_title_1  \\\n",
       "0  Total values - Electronic card transactions A/...         Actual   \n",
       "1  Total values - Electronic card transactions A/...         Actual   \n",
       "2  Total values - Electronic card transactions A/...         Actual   \n",
       "3  Total values - Electronic card transactions A/...         Actual   \n",
       "4  Total values - Electronic card transactions A/...         Actual   \n",
       "\n",
       "         Series_title_2 Series_title_3  Series_title_4  Series_title_5  \n",
       "0  RTS total industries            NaN             NaN             NaN  \n",
       "1  RTS total industries            NaN             NaN             NaN  \n",
       "2  RTS total industries            NaN             NaN             NaN  \n",
       "3  RTS total industries            NaN             NaN             NaN  \n",
       "4  RTS total industries            NaN             NaN             NaN  "
      ]
     },
     "execution_count": 20,
     "metadata": {},
     "output_type": "execute_result"
    }
   ],
   "source": [
    "df_cd=pd.read_csv(\"datasets/E-card.csv\")\n",
    "df_cd.head()"
   ]
  },
  {
   "cell_type": "code",
   "execution_count": 21,
   "id": "f697e4b6",
   "metadata": {},
   "outputs": [
    {
     "name": "stdout",
     "output_type": "stream",
     "text": [
      "<class 'pandas.core.frame.DataFrame'>\n",
      "RangeIndex: 19345 entries, 0 to 19344\n",
      "Data columns (total 14 columns):\n",
      " #   Column            Non-Null Count  Dtype  \n",
      "---  ------            --------------  -----  \n",
      " 0   Series_reference  19345 non-null  object \n",
      " 1   Period            19345 non-null  float64\n",
      " 2   Data_value        17552 non-null  float64\n",
      " 3   Suppressed        672 non-null    object \n",
      " 4   STATUS            19345 non-null  object \n",
      " 5   UNITS             19345 non-null  object \n",
      " 6   Magnitude         19345 non-null  int64  \n",
      " 7   Subject           19345 non-null  object \n",
      " 8   Group             19345 non-null  object \n",
      " 9   Series_title_1    19345 non-null  object \n",
      " 10  Series_title_2    19345 non-null  object \n",
      " 11  Series_title_3    3805 non-null   object \n",
      " 12  Series_title_4    0 non-null      float64\n",
      " 13  Series_title_5    0 non-null      float64\n",
      "dtypes: float64(4), int64(1), object(9)\n",
      "memory usage: 2.1+ MB\n"
     ]
    }
   ],
   "source": [
    "df_cd.info()"
   ]
  },
  {
   "cell_type": "code",
   "execution_count": 27,
   "id": "2cb1271a",
   "metadata": {},
   "outputs": [
    {
     "name": "stdout",
     "output_type": "stream",
     "text": [
      "2.40\n"
     ]
    }
   ],
   "source": [
    "a=2.4\n",
    "print(\"{:.2f}\".format(a))"
   ]
  },
  {
   "cell_type": "code",
   "execution_count": 30,
   "id": "2bc388d2",
   "metadata": {},
   "outputs": [
    {
     "name": "stdout",
     "output_type": "stream",
     "text": [
      "Enter the size of a list :\n",
      "2\n",
      "1.4\n",
      "2.4\n",
      "[1.4, 2.4]\n"
     ]
    }
   ],
   "source": [
    "print(\"Enter the size of a list :\")\n",
    "sz=int(input())#size of the list\n",
    "lst=[] # an empty list declaration\n",
    "for i in range(0,sz):\n",
    "    num= float(input()) #float input\n",
    "    lst.append(num) #appending into the list\n",
    "print(lst)"
   ]
  },
  {
   "cell_type": "code",
   "execution_count": null,
   "id": "280b64b6",
   "metadata": {},
   "outputs": [],
   "source": []
  }
 ],
 "metadata": {
  "kernelspec": {
   "display_name": "Python 3 (ipykernel)",
   "language": "python",
   "name": "python3"
  },
  "language_info": {
   "codemirror_mode": {
    "name": "ipython",
    "version": 3
   },
   "file_extension": ".py",
   "mimetype": "text/x-python",
   "name": "python",
   "nbconvert_exporter": "python",
   "pygments_lexer": "ipython3",
   "version": "3.10.8"
  }
 },
 "nbformat": 4,
 "nbformat_minor": 5
}
