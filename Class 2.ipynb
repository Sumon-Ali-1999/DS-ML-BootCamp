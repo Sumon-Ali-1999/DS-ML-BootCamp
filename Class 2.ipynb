{
 "cells": [
  {
   "cell_type": "code",
   "execution_count": 2,
   "id": "be049013",
   "metadata": {},
   "outputs": [
    {
     "name": "stdout",
     "output_type": "stream",
     "text": [
      "5 10\n"
     ]
    }
   ],
   "source": [
    "a=5\n",
    "b=10\n",
    "print(a,b)"
   ]
  },
  {
   "cell_type": "code",
   "execution_count": 5,
   "id": "47326b22",
   "metadata": {},
   "outputs": [
    {
     "data": {
      "text/plain": [
       "0"
      ]
     },
     "execution_count": 5,
     "metadata": {},
     "output_type": "execute_result"
    }
   ],
   "source": [
    "b%a"
   ]
  },
  {
   "cell_type": "code",
   "execution_count": 6,
   "id": "f76a3f92",
   "metadata": {},
   "outputs": [
    {
     "data": {
      "text/plain": [
       "100"
      ]
     },
     "execution_count": 6,
     "metadata": {},
     "output_type": "execute_result"
    }
   ],
   "source": [
    "#Exponent\n",
    "b**2"
   ]
  },
  {
   "cell_type": "markdown",
   "id": "d80e793f",
   "metadata": {},
   "source": [
    "# Comperison"
   ]
  },
  {
   "cell_type": "code",
   "execution_count": 11,
   "id": "1552a23b",
   "metadata": {},
   "outputs": [
    {
     "data": {
      "text/plain": [
       "False"
      ]
     },
     "execution_count": 11,
     "metadata": {},
     "output_type": "execute_result"
    }
   ],
   "source": [
    "a==b"
   ]
  },
  {
   "cell_type": "code",
   "execution_count": 13,
   "id": "1d36fbd5",
   "metadata": {},
   "outputs": [
    {
     "data": {
      "text/plain": [
       "True"
      ]
     },
     "execution_count": 13,
     "metadata": {},
     "output_type": "execute_result"
    }
   ],
   "source": [
    "a!=b"
   ]
  },
  {
   "cell_type": "markdown",
   "id": "dcee870b",
   "metadata": {},
   "source": [
    "## Logical"
   ]
  },
  {
   "cell_type": "code",
   "execution_count": 14,
   "id": "9e089712",
   "metadata": {},
   "outputs": [
    {
     "data": {
      "text/plain": [
       "False"
      ]
     },
     "execution_count": 14,
     "metadata": {},
     "output_type": "execute_result"
    }
   ],
   "source": [
    "x=4\n",
    "y=4\n",
    "z=6\n",
    "\n",
    "x==y and y==z"
   ]
  },
  {
   "cell_type": "code",
   "execution_count": 15,
   "id": "5b4b16e7",
   "metadata": {},
   "outputs": [
    {
     "data": {
      "text/plain": [
       "True"
      ]
     },
     "execution_count": 15,
     "metadata": {},
     "output_type": "execute_result"
    }
   ],
   "source": [
    "x==y or y==z"
   ]
  },
  {
   "cell_type": "code",
   "execution_count": 16,
   "id": "f529f752",
   "metadata": {},
   "outputs": [
    {
     "data": {
      "text/plain": [
       "False"
      ]
     },
     "execution_count": 16,
     "metadata": {},
     "output_type": "execute_result"
    }
   ],
   "source": [
    "not x==y"
   ]
  },
  {
   "cell_type": "markdown",
   "id": "0382db8a",
   "metadata": {},
   "source": [
    "# Membership"
   ]
  },
  {
   "cell_type": "code",
   "execution_count": 19,
   "id": "ddd7feb8",
   "metadata": {},
   "outputs": [
    {
     "data": {
      "text/plain": [
       "False"
      ]
     },
     "execution_count": 19,
     "metadata": {},
     "output_type": "execute_result"
    }
   ],
   "source": [
    "\"desh\" not in \"Bangladesh\""
   ]
  },
  {
   "cell_type": "markdown",
   "id": "b3fb42b5",
   "metadata": {},
   "source": [
    "# Identity"
   ]
  },
  {
   "cell_type": "code",
   "execution_count": 20,
   "id": "3e84d112",
   "metadata": {},
   "outputs": [
    {
     "data": {
      "text/plain": [
       "False"
      ]
     },
     "execution_count": 20,
     "metadata": {},
     "output_type": "execute_result"
    }
   ],
   "source": [
    "a is b"
   ]
  },
  {
   "cell_type": "markdown",
   "id": "cb995b7e",
   "metadata": {},
   "source": [
    "# Data Structures"
   ]
  },
  {
   "cell_type": "code",
   "execution_count": 21,
   "id": "408a75c4",
   "metadata": {},
   "outputs": [],
   "source": [
    "#list\n",
    "lst_1=[\"BUET\",\"RUET\",\"EWU\",\"Brac\"]\n",
    "lst_2 =[1,2,3,4]"
   ]
  },
  {
   "cell_type": "code",
   "execution_count": 22,
   "id": "d6234eeb",
   "metadata": {},
   "outputs": [
    {
     "data": {
      "text/plain": [
       "['BUET', 'RUET']"
      ]
     },
     "execution_count": 22,
     "metadata": {},
     "output_type": "execute_result"
    }
   ],
   "source": [
    "lst_1[0:2]#licing lower<=index<upper"
   ]
  },
  {
   "cell_type": "code",
   "execution_count": 23,
   "id": "9790e12b",
   "metadata": {},
   "outputs": [
    {
     "data": {
      "text/plain": [
       "['RUET', 'EWU', 'Brac']"
      ]
     },
     "execution_count": 23,
     "metadata": {},
     "output_type": "execute_result"
    }
   ],
   "source": [
    "lst_1[1:]"
   ]
  },
  {
   "cell_type": "code",
   "execution_count": 24,
   "id": "52eb1ab9",
   "metadata": {},
   "outputs": [],
   "source": [
    "#update list\n",
    "lst_1.append(\"NSU\")"
   ]
  },
  {
   "cell_type": "code",
   "execution_count": 25,
   "id": "019d37b1",
   "metadata": {},
   "outputs": [
    {
     "data": {
      "text/plain": [
       "['BUET', 'RUET', 'EWU', 'Brac', 'NSU']"
      ]
     },
     "execution_count": 25,
     "metadata": {},
     "output_type": "execute_result"
    }
   ],
   "source": [
    "lst_1"
   ]
  },
  {
   "cell_type": "code",
   "execution_count": 27,
   "id": "6353af5d",
   "metadata": {},
   "outputs": [
    {
     "data": {
      "text/plain": [
       "['BUET', 'RUET', 'KUET', 'KUET', 'EWU', 'Brac', 'NSU']"
      ]
     },
     "execution_count": 27,
     "metadata": {},
     "output_type": "execute_result"
    }
   ],
   "source": [
    "lst_1.insert(2,\"KUET\")\n",
    "lst_1"
   ]
  },
  {
   "cell_type": "code",
   "execution_count": 28,
   "id": "3f725a99",
   "metadata": {},
   "outputs": [],
   "source": [
    "lst_1.extend(lst_2)"
   ]
  },
  {
   "cell_type": "code",
   "execution_count": 29,
   "id": "a9848475",
   "metadata": {},
   "outputs": [
    {
     "data": {
      "text/plain": [
       "['BUET', 'RUET', 'KUET', 'KUET', 'EWU', 'Brac', 'NSU', 1, 2, 3, 4]"
      ]
     },
     "execution_count": 29,
     "metadata": {},
     "output_type": "execute_result"
    }
   ],
   "source": [
    "lst_1"
   ]
  },
  {
   "cell_type": "code",
   "execution_count": 30,
   "id": "cb2efe54",
   "metadata": {},
   "outputs": [],
   "source": [
    "#remove items\n",
    "del lst_1[7:]"
   ]
  },
  {
   "cell_type": "code",
   "execution_count": 31,
   "id": "ca5c0c12",
   "metadata": {},
   "outputs": [
    {
     "data": {
      "text/plain": [
       "['BUET', 'RUET', 'KUET', 'KUET', 'EWU', 'Brac', 'NSU']"
      ]
     },
     "execution_count": 31,
     "metadata": {},
     "output_type": "execute_result"
    }
   ],
   "source": [
    "lst_1"
   ]
  },
  {
   "cell_type": "code",
   "execution_count": 32,
   "id": "550f2c47",
   "metadata": {},
   "outputs": [],
   "source": [
    "del lst_1[-2]"
   ]
  },
  {
   "cell_type": "code",
   "execution_count": 33,
   "id": "5c1a77ff",
   "metadata": {},
   "outputs": [
    {
     "data": {
      "text/plain": [
       "['BUET', 'RUET', 'KUET', 'KUET', 'EWU', 'NSU']"
      ]
     },
     "execution_count": 33,
     "metadata": {},
     "output_type": "execute_result"
    }
   ],
   "source": [
    "lst_1"
   ]
  },
  {
   "cell_type": "code",
   "execution_count": 34,
   "id": "e0723e76",
   "metadata": {},
   "outputs": [
    {
     "data": {
      "text/plain": [
       "2"
      ]
     },
     "execution_count": 34,
     "metadata": {},
     "output_type": "execute_result"
    }
   ],
   "source": [
    "lst_1.count(\"KUET\")"
   ]
  },
  {
   "cell_type": "code",
   "execution_count": 35,
   "id": "6c66fe55",
   "metadata": {},
   "outputs": [
    {
     "data": {
      "text/plain": [
       "['BUET', 'RUET', 'KUET', 'KUET', 'EWU', 'NSU']"
      ]
     },
     "execution_count": 35,
     "metadata": {},
     "output_type": "execute_result"
    }
   ],
   "source": [
    "sorted(lst_1)\n",
    "lst_1"
   ]
  },
  {
   "cell_type": "markdown",
   "id": "e0bb00cf",
   "metadata": {},
   "source": [
    "# Tuple"
   ]
  },
  {
   "cell_type": "code",
   "execution_count": 39,
   "id": "967d4eda",
   "metadata": {},
   "outputs": [],
   "source": [
    "tup=('a','b','c','d')\n"
   ]
  },
  {
   "cell_type": "code",
   "execution_count": 41,
   "id": "34ba2e9f",
   "metadata": {},
   "outputs": [
    {
     "data": {
      "text/plain": [
       "('a', 'b', 'c', 'd', 'e')"
      ]
     },
     "execution_count": 41,
     "metadata": {},
     "output_type": "execute_result"
    }
   ],
   "source": [
    "tup +=('e',)\n",
    "tup"
   ]
  },
  {
   "cell_type": "code",
   "execution_count": 42,
   "id": "02497dfd",
   "metadata": {},
   "outputs": [
    {
     "data": {
      "text/plain": [
       "5"
      ]
     },
     "execution_count": 42,
     "metadata": {},
     "output_type": "execute_result"
    }
   ],
   "source": [
    "len(tup)"
   ]
  },
  {
   "cell_type": "markdown",
   "id": "37ec9d2b",
   "metadata": {},
   "source": [
    "# Dictionary\n"
   ]
  },
  {
   "cell_type": "code",
   "execution_count": 43,
   "id": "c9c567ce",
   "metadata": {},
   "outputs": [],
   "source": [
    "# need key for value\n",
    "dict={'b':\"BUET\",'r':\"RUET\",'e':\"EWU\",'a':\"Brac\"}"
   ]
  },
  {
   "cell_type": "code",
   "execution_count": 44,
   "id": "758e71e5",
   "metadata": {},
   "outputs": [
    {
     "data": {
      "text/plain": [
       "{'b': 'BUET', 'r': 'RUET', 'e': 'EWU', 'a': 'Brac'}"
      ]
     },
     "execution_count": 44,
     "metadata": {},
     "output_type": "execute_result"
    }
   ],
   "source": [
    "dict"
   ]
  },
  {
   "cell_type": "code",
   "execution_count": 45,
   "id": "9404ddcb",
   "metadata": {},
   "outputs": [
    {
     "data": {
      "text/plain": [
       "'EWU'"
      ]
     },
     "execution_count": 45,
     "metadata": {},
     "output_type": "execute_result"
    }
   ],
   "source": [
    "dict['e']"
   ]
  },
  {
   "cell_type": "code",
   "execution_count": 46,
   "id": "eff5c1d3",
   "metadata": {},
   "outputs": [
    {
     "data": {
      "text/plain": [
       "{'b': 'BUET', 'r': 'RU', 'e': 'EWU', 'a': 'Brac'}"
      ]
     },
     "execution_count": 46,
     "metadata": {},
     "output_type": "execute_result"
    }
   ],
   "source": [
    "dict['r']=\"RU\"#update\n",
    "dict"
   ]
  },
  {
   "cell_type": "code",
   "execution_count": 48,
   "id": "0b382559",
   "metadata": {},
   "outputs": [
    {
     "data": {
      "text/plain": [
       "dict_keys(['b', 'r', 'e', 'a'])"
      ]
     },
     "execution_count": 48,
     "metadata": {},
     "output_type": "execute_result"
    }
   ],
   "source": [
    "dict.keys()"
   ]
  },
  {
   "cell_type": "code",
   "execution_count": 49,
   "id": "d16d0a27",
   "metadata": {},
   "outputs": [
    {
     "data": {
      "text/plain": [
       "dict_values(['BUET', 'RU', 'EWU', 'Brac'])"
      ]
     },
     "execution_count": 49,
     "metadata": {},
     "output_type": "execute_result"
    }
   ],
   "source": [
    "dict.values()"
   ]
  },
  {
   "cell_type": "code",
   "execution_count": 50,
   "id": "0c7f67d2",
   "metadata": {},
   "outputs": [
    {
     "data": {
      "text/plain": [
       "{1, 2, 3, 4}"
      ]
     },
     "execution_count": 50,
     "metadata": {},
     "output_type": "execute_result"
    }
   ],
   "source": [
    "#set#sort and remove duplicate\n",
    "s={1,2,3,3,4,4}\n",
    "s"
   ]
  },
  {
   "cell_type": "code",
   "execution_count": 51,
   "id": "2692ba89",
   "metadata": {},
   "outputs": [
    {
     "ename": "TypeError",
     "evalue": "'set' object is not subscriptable",
     "output_type": "error",
     "traceback": [
      "\u001b[1;31m---------------------------------------------------------------------------\u001b[0m",
      "\u001b[1;31mTypeError\u001b[0m                                 Traceback (most recent call last)",
      "Cell \u001b[1;32mIn[51], line 1\u001b[0m\n\u001b[1;32m----> 1\u001b[0m \u001b[43ms\u001b[49m\u001b[43m[\u001b[49m\u001b[38;5;241;43m1\u001b[39;49m\u001b[43m]\u001b[49m\n",
      "\u001b[1;31mTypeError\u001b[0m: 'set' object is not subscriptable"
     ]
    }
   ],
   "source": [
    "s[1]"
   ]
  },
  {
   "cell_type": "markdown",
   "id": "05f95881",
   "metadata": {},
   "source": [
    "# String"
   ]
  },
  {
   "cell_type": "code",
   "execution_count": 57,
   "id": "bf56a72f",
   "metadata": {},
   "outputs": [
    {
     "data": {
      "text/plain": [
       "\"BAngladesh is 'Love'. I love her\""
      ]
     },
     "execution_count": 57,
     "metadata": {},
     "output_type": "execute_result"
    }
   ],
   "source": [
    "string =\"BAngladesh is 'Love'. I love her\"\n",
    "string"
   ]
  },
  {
   "cell_type": "code",
   "execution_count": 58,
   "id": "a24d3f8b",
   "metadata": {},
   "outputs": [
    {
     "name": "stdout",
     "output_type": "stream",
     "text": [
      "bangladesh is love ll"
     ]
    }
   ],
   "source": [
    "print(\"bangladesh is love \",end='ll')"
   ]
  },
  {
   "cell_type": "code",
   "execution_count": 2,
   "id": "95bca169",
   "metadata": {},
   "outputs": [
    {
     "name": "stdout",
     "output_type": "stream",
     "text": [
      "Area of BD is:  147570 sq.km\n"
     ]
    }
   ],
   "source": [
    "n=147570\n",
    "string_2=\"Area of BD is: \"\n",
    "print(string_2,n,'sq.km')"
   ]
  },
  {
   "cell_type": "code",
   "execution_count": 3,
   "id": "c63d4b68",
   "metadata": {},
   "outputs": [
    {
     "name": "stdout",
     "output_type": "stream",
     "text": [
      "Area of BD is: 147570sq.km\n"
     ]
    }
   ],
   "source": [
    "print(f\"{string_2}{n}sq.km\")"
   ]
  },
  {
   "cell_type": "code",
   "execution_count": null,
   "id": "1163532a",
   "metadata": {},
   "outputs": [],
   "source": []
  }
 ],
 "metadata": {
  "kernelspec": {
   "display_name": "Python 3 (ipykernel)",
   "language": "python",
   "name": "python3"
  },
  "language_info": {
   "codemirror_mode": {
    "name": "ipython",
    "version": 3
   },
   "file_extension": ".py",
   "mimetype": "text/x-python",
   "name": "python",
   "nbconvert_exporter": "python",
   "pygments_lexer": "ipython3",
   "version": "3.10.8"
  }
 },
 "nbformat": 4,
 "nbformat_minor": 5
}
